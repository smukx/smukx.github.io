{
  "nbformat": 4,
  "nbformat_minor": 0,
  "metadata": {
    "colab": {
      "provenance": []
    },
    "kernelspec": {
      "name": "python3",
      "display_name": "Python 3"
    },
    "language_info": {
      "name": "python"
    }
  },
  "cells": [
    {
      "cell_type": "markdown",
      "source": [
        "Day 5 Codes :)\n",
        "\n",
        "https://docs.google.com/document/d/1JCHH_TLqlLNtf1hp2jmn2u2Wa5U_G1qQLnkO14tp52A/edit#heading=h.l4e887axgr2\n",
        "\n",
        "problem ans"
      ],
      "metadata": {
        "id": "VK5S_dGDdbpN"
      }
    },
    {
      "cell_type": "code",
      "execution_count": null,
      "metadata": {
        "colab": {
          "base_uri": "https://localhost:8080/"
        },
        "id": "5XVNjNIOCIbu",
        "outputId": "abfbff6e-ac52-4706-99ce-4fc03b816110"
      },
      "outputs": [
        {
          "output_type": "stream",
          "name": "stdout",
          "text": [
            "Day5\n"
          ]
        }
      ],
      "source": [
        "!echo Day5"
      ]
    },
    {
      "cell_type": "code",
      "source": [
        "%%writefile file1.c\n",
        "\n",
        "\n",
        "#include <stdio.h>\n",
        "#include <string.h>\n",
        "#include <stdbool.h>\n",
        "\n",
        "bool anagram_check(char* s, char* t) {\n",
        "    int s_len = strlen(s);\n",
        "    int t_len = strlen(t);\n",
        "\n",
        "    if (s_len != t_len) {\n",
        "        return false;\n",
        "    }\n",
        "\n",
        "    int s_count[26] = {0};\n",
        "    int t_count[26] = {0};\n",
        "\n",
        "    for (int i = 0; i < s_len; i++) {\n",
        "        s_count[s[i] - 'a']++;\n",
        "        t_count[t[i] - 'a']++;\n",
        "    }\n",
        "\n",
        "    for (int i = 0; i < 26; i++) {\n",
        "        if (s_count[i] != t_count[i]) {\n",
        "            return false;\n",
        "        }\n",
        "    }\n",
        "\n",
        "    return true;\n",
        "}\n",
        "\n",
        "int main() {\n",
        "    char s[] = \"pine\";\n",
        "    char t[] = \"nipe\";\n",
        "    //printf(\"Enter the 1st Strings : \");\n",
        "    //scanf(\"%s\",&s);\n",
        "    //printf(\"Enter the 2nd Strings :\");\n",
        "    //scanf(\"%s\",&t);\n",
        "    if (anagram_check(s, t)) {\n",
        "        printf(\"%s and %s are anagrams\\n\", s, t);\n",
        "    } else {\n",
        "        printf(\"%s and %s are not anagrams\\n\", s, t);\n",
        "    }\n",
        "    return 0;\n",
        "}\n",
        "\n"
      ],
      "metadata": {
        "id": "7XiKfQlRCYyy",
        "colab": {
          "base_uri": "https://localhost:8080/"
        },
        "outputId": "4d6452b3-a127-4e85-950c-ba94a295cfae"
      },
      "execution_count": null,
      "outputs": [
        {
          "output_type": "stream",
          "name": "stdout",
          "text": [
            "Overwriting file1.c\n"
          ]
        }
      ]
    },
    {
      "cell_type": "code",
      "source": [
        "!gcc file1.c && ./a.out"
      ],
      "metadata": {
        "colab": {
          "base_uri": "https://localhost:8080/"
        },
        "id": "WCeLNPDDI7oM",
        "outputId": "4d7fce44-7b04-4bf8-c69f-255c48922acc"
      },
      "execution_count": null,
      "outputs": [
        {
          "output_type": "stream",
          "name": "stdout",
          "text": [
            "pine and nipe are anagrams\n"
          ]
        }
      ]
    },
    {
      "cell_type": "code",
      "source": [
        "%%writefile task2.c\n",
        "\n",
        "#include <stdio.h>\n",
        "#include <stdlib.h>\n",
        "\n",
        "int minMoves(int* nums, int numsSize) {\n",
        "    int* count = (int*) calloc(numsSize, sizeof(int));\n",
        "    int* new_nums = (int*) calloc(numsSize, sizeof(int));\n",
        "    int i, max = 0, moves = 0;\n",
        "\n",
        "    for (i = 0; i < numsSize; i++) {\n",
        "        count[nums[i]]++;\n",
        "        max = (nums[i] > max) ? nums[i] : max;\n",
        "    }\n",
        "\n",
        "    for (i = 0; i <= max; i++) {\n",
        "        while (count[i] > 0) {\n",
        "            *new_nums++ = i;\n",
        "            count[i]--;\n",
        "        }\n",
        "    }\n",
        "\n",
        "    for (i = 0; i < numsSize; i++) {\n",
        "        if (nums[i] != *new_nums) {\n",
        "            moves += abs(nums[i] - *new_nums);\n",
        "        }\n",
        "        new_nums++;\n",
        "    }\n",
        "\n",
        "    return moves;\n",
        "}\n",
        "\n",
        "int main() {\n",
        "    int nums[] = {3, 2, 1, 2, 1, 7};\n",
        "    int numsSize = sizeof(nums) / sizeof(nums[0]);\n",
        "    int min_moves = minMoves(nums, numsSize);\n",
        "    printf(\"Minimum number of moves: %d\\n\", min_moves);\n",
        "    return 0;\n",
        "}\n",
        "\n"
      ],
      "metadata": {
        "id": "ZmSrZj7uI8hw"
      },
      "execution_count": null,
      "outputs": []
    },
    {
      "cell_type": "code",
      "source": [
        "!gcc task2.c && ./a.out"
      ],
      "metadata": {
        "id": "vg1tcuM1YZRB"
      },
      "execution_count": null,
      "outputs": []
    },
    {
      "cell_type": "code",
      "source": [
        "%%writefile task3.c\n",
        "\n",
        "#include <stdio.h>\n",
        "#include <string.h>\n",
        "\n",
        "int is_palindrome(char *s) {\n",
        "    int len = strlen(s);\n",
        "    for (int i = 0; i < len/2; i++) {\n",
        "        if (s[i] != s[len-i-1]) {\n",
        "            return 0;\n",
        "        }\n",
        "    }\n",
        "    return 1;\n",
        "}\n",
        "\n",
        "int main() {\n",
        "    char palindrome[100];\n",
        "    scanf(\"%s\", palindrome);\n",
        "    int len = strlen(palindrome);\n",
        "\n",
        "    if (!is_palindrome(palindrome)) {\n",
        "        printf(\"%s\\n\", palindrome);\n",
        "        return 0;\n",
        "    }\n",
        "\n",
        "    for (int i = 0; i < len/2; i++) {\n",
        "        if (palindrome[i] != palindrome[len-i-1]) {\n",
        "            palindrome[i] = 'a';\n",
        "            printf(\"%s\\n\", palindrome);\n",
        "            return 0;\n",
        "        }\n",
        "    }\n",
        "\n",
        "    // if all characters are the same\n",
        "    palindrome[len-1] = 'b';\n",
        "    printf(\"%s\\n\", palindrome);\n",
        "    return 0;\n",
        "}\n"
      ],
      "metadata": {
        "id": "I0nKrWfzYezZ"
      },
      "execution_count": null,
      "outputs": []
    },
    {
      "cell_type": "code",
      "source": [
        "!gcc task3.c && ./a.out"
      ],
      "metadata": {
        "id": "UAlluxS1ZDRX"
      },
      "execution_count": null,
      "outputs": []
    },
    {
      "cell_type": "code",
      "source": [
        "%%writefile task4.c\n",
        "\n",
        "#include <stdio.h>\n",
        "\n",
        "int candy(int* ratings, int ratingsSize){\n",
        "    int candies[ratingsSize];\n",
        "    int sum = 0;\n",
        "    \n",
        "    // Initialize candies array with 1 for each child\n",
        "    for (int i = 0; i < ratingsSize; i++) {\n",
        "        candies[i] = 1;\n",
        "    }\n",
        "\n",
        "    // Give more candies to children with higher ratings\n",
        "    for (int i = 1; i < ratingsSize; i++) {\n",
        "        if (ratings[i] > ratings[i-1]) {\n",
        "            candies[i] = candies[i-1] + 1;\n",
        "        }\n",
        "    }\n",
        "\n",
        "    // Check again from the end to ensure children with higher ratings get more candies\n",
        "    for (int i = ratingsSize-2; i >= 0; i--) {\n",
        "        if (ratings[i] > ratings[i+1]) {\n",
        "            candies[i] = fmax(candies[i], candies[i+1] + 1);\n",
        "        }\n",
        "    }\n",
        "\n",
        "    // Calculate the total number of candies\n",
        "    for (int i = 0; i < ratingsSize; i++) {\n",
        "        sum += candies[i];\n",
        "    }\n",
        "    return sum;\n",
        "}\n",
        "\n",
        "int main() {\n",
        "    int ratings[] = {1, 2, 2};\n",
        "    int ratingsSize = sizeof(ratings) / sizeof(ratings[0]);\n",
        "    printf(\"%d\\n\", candy(ratings, ratingsSize));\n",
        "    return 0;\n",
        "}\n",
        "\n"
      ],
      "metadata": {
        "id": "8ogut2HNZICl"
      },
      "execution_count": null,
      "outputs": []
    },
    {
      "cell_type": "code",
      "source": [
        "!gcc task4.c && ./a.out"
      ],
      "metadata": {
        "id": "sdS1ouGcZj4i"
      },
      "execution_count": null,
      "outputs": []
    },
    {
      "cell_type": "code",
      "source": [
        "%%writefile task5.c\n",
        "\n",
        "#include <stdio.h>\n",
        "\n",
        "void swap(int *a, int *b) {\n",
        "    int temp = *a;\n",
        "    *a = *b;\n",
        "    *b = temp;\n",
        "}\n",
        "\n",
        "void sort(int *arr, int n) {\n",
        "    for (int i = 0; i < n-1; i++) {\n",
        "        for (int j = 0; j < n-i-1; j++) {\n",
        "            if (arr[j] > arr[j+1]) {\n",
        "                swap(&arr[j], &arr[j+1]);\n",
        "            }\n",
        "        }\n",
        "    }\n",
        "}\n",
        "\n",
        "int main() {\n",
        "    int n;\n",
        "    printf(\"Enter the number of elements: \");\n",
        "    scanf(\"%d\", &n);\n",
        "    int arr[n];\n",
        "    printf(\"Enter the elements: \");\n",
        "    for (int i = 0; i < n; i++) {\n",
        "        scanf(\"%d\", &arr[i]);\n",
        "    }\n",
        "    sort(arr, n);\n",
        "    printf(\"Sorted array: \");\n",
        "    for (int i = 0; i < n; i++) {\n",
        "        printf(\"%d \", arr[i]);\n",
        "    }\n",
        "    return 0;\n",
        "}\n"
      ],
      "metadata": {
        "id": "yOmXDq7MZm9a"
      },
      "execution_count": null,
      "outputs": []
    },
    {
      "cell_type": "code",
      "source": [
        "!gcc task5.c && ./a.out"
      ],
      "metadata": {
        "id": "CJJvU7uVZ6M6"
      },
      "execution_count": null,
      "outputs": []
    }
  ]
}
